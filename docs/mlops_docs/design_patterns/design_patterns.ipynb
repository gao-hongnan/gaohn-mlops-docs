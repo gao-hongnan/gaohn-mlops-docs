{
 "cells": [
  {
   "cell_type": "markdown",
   "id": "045d4cee-395a-4ba7-9846-798e74d6f6c6",
   "metadata": {},
   "source": [
    "## Strategy Pattern"
   ]
  },
  {
   "cell_type": "markdown",
   "id": "4c880e4e-926f-438c-9f2f-d7e1757fb0c7",
   "metadata": {},
   "source": [
    "## Further Readings\n",
    "\n",
    "- https://eugeneyan.com/writing/design-patterns/\n",
    "- https://github.com/msaroufim/ml-design-patterns\n",
    "- https://refactoring.guru/design-patterns\n",
    "- https://en.wikipedia.org/wiki/Design_Patterns"
   ]
  }
 ],
 "metadata": {
  "kernelspec": {
   "display_name": "venv_mlops",
   "language": "python",
   "name": "python3"
  },
  "language_info": {
   "codemirror_mode": {
    "name": "ipython",
    "version": 3
   },
   "file_extension": ".py",
   "mimetype": "text/x-python",
   "name": "python",
   "nbconvert_exporter": "python",
   "pygments_lexer": "ipython3",
   "version": "3.8.10 (tags/v3.8.10:3d8993a, May  3 2021, 11:48:03) [MSC v.1928 64 bit (AMD64)]"
  },
  "vscode": {
   "interpreter": {
    "hash": "fee21ade325d7bec1bc496fe52256a16c1a1d317ab64df50f935c606415019bc"
   }
  }
 },
 "nbformat": 4,
 "nbformat_minor": 5
}

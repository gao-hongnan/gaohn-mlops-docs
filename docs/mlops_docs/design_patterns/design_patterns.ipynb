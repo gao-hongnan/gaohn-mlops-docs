{
 "cells": [
  {
   "cell_type": "markdown",
   "id": "045d4cee-395a-4ba7-9846-798e74d6f6c6",
   "metadata": {},
   "source": [
    "## Strategy Pattern"
   ]
  },
  {
   "attachments": {},
   "cell_type": "markdown",
   "id": "2cc3294b",
   "metadata": {},
   "source": [
    "## Inheritance and Composition\n",
    "\n",
    "Use David's example: A is a B vs A is made up of B."
   ]
  },
  {
   "attachments": {},
   "cell_type": "markdown",
   "id": "b3dc275d",
   "metadata": {},
   "source": [
    "## Dependency Inverson Principle"
   ]
  },
  {
   "attachments": {},
   "cell_type": "markdown",
   "id": "9c33140a",
   "metadata": {},
   "source": [
    "### Definition\n",
    "\n",
    "In object-oriented design, the [dependency inversion principle](https://en.wikipedia.org/wiki/Dependency_inversion_principle) is a specific methodology for loosely coupling software modules. When following this principle, the conventional dependency relationships established from high-level, policy-setting modules to low-level, dependency modules are reversed, thus rendering high-level modules independent of the low-level module implementation details. The principle states:[1]\n",
    "\n",
    "- High-level modules should not import anything from low-level modules. Both should depend on abstractions (e.g., interfaces).\n",
    "- Abstractions should not depend on details. Details (concrete implementations) should depend on abstractions.\n",
    "By dictating that both high-level and low-level objects must depend on the same abstraction, this design principle inverts the way some people may think about object-oriented programming.[2]"
   ]
  },
  {
   "attachments": {},
   "cell_type": "markdown",
   "id": "82886397",
   "metadata": {},
   "source": [
    "### Low Level and High Level Modules\n",
    "\n",
    "Low level modules are \"low level\" because they have no dependencies, or no relevant dependencies. Very often, they can be easily reused in different contexts without introducing any separate, formal interfaces - which means, reusing them is straightforward, simple and does not require any Dependency Inversion.\n",
    "\n",
    "High level modules, however, are \"high level\", because they require other, lower level modules to work. But if they are tied to a specific low-level implementation, this often prevents to reuse them in a different context.\n",
    "\n",
    "High level modules depend on low level modules, but shouldn't depend on their implementation. This can be achieved by using interfaces, thus decoupling the definition of the service from the implementation.\n",
    "\n",
    "References: \n",
    "\n",
    "1. https://stackoverflow.com/questions/3780388/what-are-high-level-modules-and-low-level-modules-in-the-context-of-depende"
   ]
  },
  {
   "attachments": {},
   "cell_type": "markdown",
   "id": "434f9e55",
   "metadata": {},
   "source": [
    "### Example\n",
    "\n",
    "- `CustomDataset` is a high-level module that will apply transformation to the data and return\n",
    "the transformed data depending on the `stage`.\n",
    "- `ImageClassificationTransforms` is a low-level module that will return the transformation functions.\n",
    "- In our code, the high level module depends on the low level module such that the **creation** of \n",
    "`ImageClassificationTransforms` is done inside the `CustomDataset` constructor. This leads to **high coupling**. \n",
    "- The code looks fine but if we want to change the `ImageClassificationTransforms` to `ImageSegmentationTransforms`, then we have to change the `CustomDataset` code in two places:\n",
    "    - Type hint of `ImageClassificationTransforms` to `ImageSegmentationTransforms`;\n",
    "    - Change manually the `ImageClassificationTransforms` to `ImageSegmentationTransforms` in the constructor.\n",
    "- Things soon get out of hand if we have a lot more of such dependencies, such as `ObjectDetectionTransforms`, `ImageCaptioningTransforms`, etc.\n"
   ]
  },
  {
   "attachments": {},
   "cell_type": "markdown",
   "id": "5632a7a1",
   "metadata": {},
   "source": [
    "- One way to solve this is to use the **Dependency Inversion Principle**. We can create an interface `Transforms` that will be implemented by `ImageClassificationTransforms`, `ImageSegmentationTransforms`, etc. Then, we can pass the `Transforms` object to the `CustomDataset` constructor `__init__` method. This way, the `CustomDataset` will depend on the `Transforms` interface and not on the `ImageClassificationTransforms` class. This way, we can change the `ImageClassificationTransforms` to `ImageSegmentationTransforms` without changing the `CustomDataset` code. This is called **Dependency Inversion**."
   ]
  },
  {
   "attachments": {},
   "cell_type": "markdown",
   "id": "10ff4fe2",
   "metadata": {},
   "source": []
  },
  {
   "cell_type": "code",
   "execution_count": 1,
   "id": "840ab45d",
   "metadata": {},
   "outputs": [],
   "source": [
    "# convert C# to Python\n",
    "class AppPoolWatcher: #  high level module\n",
    "    def __init__(self):\n",
    "        self.writer = EventLogWriter()\n",
    "\n",
    "    def notify(self, message):\n",
    "        self.writer.write(message)\n",
    "        \n",
    "        \n",
    "class EventLogWriter: # low level module\n",
    "    def write(self, message):\n",
    "        # Write to event log here\n",
    "        pass"
   ]
  },
  {
   "attachments": {},
   "cell_type": "markdown",
   "id": "7926ea8c",
   "metadata": {},
   "source": [
    "High level module `AppPoolWatcher` depends on low level module `EventLogWriter`\n",
    "where `EventLogWriter` is a concrete class and not an interface/abstract class.\n",
    "creation of `EventLogWriter` is tightly coupled with `AppPoolWatcher` class.\n",
    "in other words, `AppPoolWatcher` creates `EventLogWriter` object since\n",
    "we are creating `EventLogWriter` object inside the constructor of `AppPoolWatcher`.\n",
    "\n",
    "Now the problem is that if we want to change the implementation of `EventLogWriter`\n",
    "then we will have to change the `AppPoolWatcher` class as well. This is not a good\n",
    "design. For example, if we want our `AppPoolWatcher` to write the error messages\n",
    "to an email instead of event log then we will have to change the `self.writer` to\n",
    "say, `EmailWriter` and then create an instance of `EmailWriter` inside the class.\n",
    "\n",
    "\n",
    "The problem will get even worse when we have more actions to take selectively, like sending SMS. \n",
    "Then we will have to have one more class whose instance will be kept inside the AppPoolWatcher. \n",
    "The dependency inversion principle says that we need to decouple this system in such \n",
    "a way that the higher level modules i.e. the `AppPoolWatcher` in our case will depend\n",
    "on a simple abstraction and will use it. This abstraction will in turn will be \n",
    "mapped to some concrete class which will perform the actual operation. (Next we will see how this can be done)  "
   ]
  },
  {
   "cell_type": "markdown",
   "id": "8a0fbef3",
   "metadata": {},
   "source": []
  },
  {
   "cell_type": "markdown",
   "id": "17dc34ec",
   "metadata": {},
   "source": []
  },
  {
   "attachments": {},
   "cell_type": "markdown",
   "id": "78c71d8d",
   "metadata": {},
   "source": [
    "## Dependency Injection\n",
    "\n",
    "- https://stackoverflow.com/questions/1314730/which-design-patterns-can-be-applied-to-the-configuration-settings-problem\n",
    "- https://www.youtube.com/watch?v=2ejbLVkCndI\n",
    "- http://martinfowler.com/articles/injection.html"
   ]
  },
  {
   "attachments": {},
   "cell_type": "markdown",
   "id": "5f2c9d99",
   "metadata": {},
   "source": []
  },
  {
   "attachments": {},
   "cell_type": "markdown",
   "id": "92dc5b30",
   "metadata": {},
   "source": [
    "## Terminology\n",
    "\n",
    "- Polymorphism: "
   ]
  },
  {
   "cell_type": "markdown",
   "id": "4c880e4e-926f-438c-9f2f-d7e1757fb0c7",
   "metadata": {},
   "source": [
    "## Further Readings\n",
    "\n",
    "- https://eugeneyan.com/writing/design-patterns/\n",
    "- https://github.com/msaroufim/ml-design-patterns\n",
    "- https://refactoring.guru/design-patterns\n",
    "- https://en.wikipedia.org/wiki/Design_Patterns"
   ]
  }
 ],
 "metadata": {
  "kernelspec": {
   "display_name": "venv_mlops",
   "language": "python",
   "name": "python3"
  },
  "language_info": {
   "codemirror_mode": {
    "name": "ipython",
    "version": 3
   },
   "file_extension": ".py",
   "mimetype": "text/x-python",
   "name": "python",
   "nbconvert_exporter": "python",
   "pygments_lexer": "ipython3",
   "version": "3.8.10 (tags/v3.8.10:3d8993a, May  3 2021, 11:48:03) [MSC v.1928 64 bit (AMD64)]"
  },
  "vscode": {
   "interpreter": {
    "hash": "fee21ade325d7bec1bc496fe52256a16c1a1d317ab64df50f935c606415019bc"
   }
  }
 },
 "nbformat": 4,
 "nbformat_minor": 5
}

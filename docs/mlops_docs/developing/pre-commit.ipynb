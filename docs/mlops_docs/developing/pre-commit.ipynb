{
 "cells": [
  {
   "cell_type": "markdown",
   "id": "sQ3qIkDT1teN",
   "metadata": {
    "id": "sQ3qIkDT1teN"
   },
   "source": [
    "<div align=\"center\">\n",
    "<h1>Pre-commit Guide</a></h1>\n",
    "by Hongnan Gao\n",
    "<br>\n",
    "</div>"
   ]
  },
  {
   "cell_type": "markdown",
   "id": "XTCw21r3Urh1",
   "metadata": {
    "id": "XTCw21r3Urh1"
   },
   "source": [
    "# Pre-commit"
   ]
  },
  {
   "cell_type": "markdown",
   "id": "e3PW87hDnWwV",
   "metadata": {
    "id": "e3PW87hDnWwV"
   },
   "source": [
    "## Intuition\n",
    "\n",
    "Before performing a commit to our local repository, there are a lot of items on our mental todo list, ranging from styling, formatting, testing, etc. And it's very easy to forget some of these steps, especially when we want to \"push to quick fix\". To help us manage all these important steps, we can use pre-commit hooks, which will automatically be triggered when we try to perform a commit.\n",
    "\n",
    "> Though we can add these checks directly in our **CI/CD** pipeline (ex. via GitHub actions), it's significantly faster to validate our commits before pushing to our remote host and waiting to see what needs to be fixed before submitting yet another PR. So the advantage of pre-commit over CI/CD checks is the speed of knowing your errors early, and to avoid excessive PR request should your commit fails."
   ]
  },
  {
   "cell_type": "markdown",
   "id": "BK8pxvGzYFot",
   "metadata": {
    "id": "BK8pxvGzYFot"
   },
   "source": [
    "## Installation\n",
    "\n",
    "We first install the package called [`pre-commit`](https://pre-commit.com/). Recall that we can put these in our `requirements.txt` as well.\n",
    "\n",
    "```bash\n",
    "# Install pre-commit\n",
    "pip install pre-commit\n",
    "pre-commit install\n",
    "```"
   ]
  },
  {
   "cell_type": "code",
   "execution_count": 11,
   "id": "nIgQmnwep8Xr",
   "metadata": {
    "colab": {
     "base_uri": "https://localhost:8080/"
    },
    "executionInfo": {
     "elapsed": 4430,
     "status": "ok",
     "timestamp": 1651627325198,
     "user": {
      "displayName": "HONGNAN GAO",
      "userId": "14684257183016239750"
     },
     "user_tz": -480
    },
    "id": "nIgQmnwep8Xr",
    "outputId": "5ed0b91b-e081-4d55-967a-180e504cce61"
   },
   "outputs": [
    {
     "name": "stdout",
     "output_type": "stream",
     "text": [
      "\u001b[2K     \u001b[90m━━━━━━━━━━━━━━━━━━━━━━━━━━━━━━━━━━━━━━━\u001b[0m \u001b[32m197.8/197.8 KB\u001b[0m \u001b[31m5.1 MB/s\u001b[0m eta \u001b[36m0:00:00\u001b[0m\n",
      "\u001b[2K     \u001b[90m━━━━━━━━━━━━━━━━━━━━━━━━━━━━━━━━━━━━━━━━\u001b[0m \u001b[32m98.6/98.6 KB\u001b[0m \u001b[31m8.3 MB/s\u001b[0m eta \u001b[36m0:00:00\u001b[0m\n",
      "\u001b[2K     \u001b[90m━━━━━━━━━━━━━━━━━━━━━━━━━━━━━━━━━━━━━━\u001b[0m \u001b[32m596.3/596.3 KB\u001b[0m \u001b[31m21.2 MB/s\u001b[0m eta \u001b[36m0:00:00\u001b[0m\n",
      "\u001b[?25h"
     ]
    }
   ],
   "source": [
    "!source venv_reighns/bin/activate; python3 -m pip install -q pre-commit # colab\n",
    "# pip3 install -q pre-commit                                            # IDE"
   ]
  },
  {
   "cell_type": "markdown",
   "id": "9_KmdA2Vq5vi",
   "metadata": {
    "id": "9_KmdA2Vq5vi"
   },
   "source": [
    "We need to initialize a `git` repo first before running `pre-commit install`. Note this `git` can be local!"
   ]
  },
  {
   "cell_type": "code",
   "execution_count": 14,
   "id": "mZmLFlIrquXn",
   "metadata": {
    "colab": {
     "base_uri": "https://localhost:8080/"
    },
    "executionInfo": {
     "elapsed": 9,
     "status": "ok",
     "timestamp": 1651627455803,
     "user": {
      "displayName": "HONGNAN GAO",
      "userId": "14684257183016239750"
     },
     "user_tz": -480
    },
    "id": "mZmLFlIrquXn",
    "outputId": "58c9ffce-e544-49b7-e4f8-fa7d35b8635d"
   },
   "outputs": [
    {
     "name": "stdout",
     "output_type": "stream",
     "text": [
      "Initialized empty Git repository in /content/reighns/.git/\n"
     ]
    }
   ],
   "source": [
    "!git init"
   ]
  },
  {
   "cell_type": "code",
   "execution_count": 15,
   "id": "DU1i21H0qU7E",
   "metadata": {
    "colab": {
     "base_uri": "https://localhost:8080/"
    },
    "executionInfo": {
     "elapsed": 861,
     "status": "ok",
     "timestamp": 1651627487064,
     "user": {
      "displayName": "HONGNAN GAO",
      "userId": "14684257183016239750"
     },
     "user_tz": -480
    },
    "id": "DU1i21H0qU7E",
    "outputId": "01b3d6ce-bbe1-4c50-badc-6b7d5f86127c"
   },
   "outputs": [
    {
     "name": "stdout",
     "output_type": "stream",
     "text": [
      "pre-commit installed at .git/hooks/pre-commit\n"
     ]
    }
   ],
   "source": [
    "!source venv_reighns/bin/activate; pre-commit install"
   ]
  },
  {
   "cell_type": "markdown",
   "id": "2U4HS87crl-L",
   "metadata": {
    "id": "2U4HS87crl-L"
   },
   "source": [
    "## Config"
   ]
  },
  {
   "cell_type": "markdown",
   "id": "GFUzFTI9roL8",
   "metadata": {
    "id": "GFUzFTI9roL8"
   },
   "source": [
    "Similar to creating `.flake8` and `pyproject.toml` file in our **Styling Guide**, we also have to create some settings for our `pre-commit` files.\n",
    "\n",
    "In other words, we need to tell `pre-commit` what kinds of checks to perform prior to committing.\n",
    "\n",
    "For a starter, we use the **default** config file provided by `pre-commit` and add on other config later."
   ]
  },
  {
   "cell_type": "code",
   "execution_count": 18,
   "id": "oFW5xWjbrQLw",
   "metadata": {
    "executionInfo": {
     "elapsed": 616,
     "status": "ok",
     "timestamp": 1651627665346,
     "user": {
      "displayName": "HONGNAN GAO",
      "userId": "14684257183016239750"
     },
     "user_tz": -480
    },
    "id": "oFW5xWjbrQLw"
   },
   "outputs": [],
   "source": [
    "# Simple config\n",
    "!source venv_reighns/bin/activate; pre-commit sample-config > .pre-commit-config.yaml"
   ]
  },
  {
   "cell_type": "markdown",
   "id": "84xQ8E5psGkf",
   "metadata": {
    "id": "84xQ8E5psGkf"
   },
   "source": [
    "We can see from the default template that some default checks like `trailing-whitespace` are already in place."
   ]
  },
  {
   "cell_type": "code",
   "execution_count": 19,
   "id": "gV2jpX_vriUB",
   "metadata": {
    "colab": {
     "base_uri": "https://localhost:8080/"
    },
    "executionInfo": {
     "elapsed": 9,
     "status": "ok",
     "timestamp": 1651627668060,
     "user": {
      "displayName": "HONGNAN GAO",
      "userId": "14684257183016239750"
     },
     "user_tz": -480
    },
    "id": "gV2jpX_vriUB",
    "outputId": "e6afe171-c9dd-4201-b082-f9864d622766"
   },
   "outputs": [
    {
     "name": "stdout",
     "output_type": "stream",
     "text": [
      "# See https://pre-commit.com for more information\n",
      "# See https://pre-commit.com/hooks.html for more hooks\n",
      "repos:\n",
      "-   repo: https://github.com/pre-commit/pre-commit-hooks\n",
      "    rev: v3.2.0\n",
      "    hooks:\n",
      "    -   id: trailing-whitespace\n",
      "    -   id: end-of-file-fixer\n",
      "    -   id: check-yaml\n",
      "    -   id: check-added-large-files\n"
     ]
    }
   ],
   "source": [
    "!cat .pre-commit-config.yaml"
   ]
  },
  {
   "cell_type": "markdown",
   "id": "7tU3BwXEsQe5",
   "metadata": {
    "id": "7tU3BwXEsQe5"
   },
   "source": [
    "## Hooks\n",
    "\n",
    "What are Hooks? Let us read the [documentation](https://git-scm.com/book/en/v2/Customizing-Git-Git-Hooks) to get a general idea of what hooks are."
   ]
  },
  {
   "cell_type": "markdown",
   "id": "eqdaERqcsRRN",
   "metadata": {
    "id": "eqdaERqcsRRN"
   },
   "source": [
    "### Built-in\n",
    "\n",
    "Inside the sample configuration, we can see that pre-commit has added some default hooks from it's repository. It specifies the location of the repository, version as well as the specific hook ids to use. We can read about the function of these hooks and add even more by exploring pre-commit's [built-in hooks](https://github.com/pre-commit/pre-commit-hooks). Many of them also have additional arguments that we can configure to customize the hook.\n",
    "\n",
    "> Be sure to explore the many other built-in hooks because there are some really useful ones that we use in our project. For example, check-merge-conflict to see if there are any lingering merge conflict strings or detect-aws-credentials if we accidently left our credentials exposed in a file, and so much more.\n",
    "\n",
    "And we can also exclude certain files from being processed by the hooks by using the optional exclude key. There are many other [optional keys](https://pre-commit.com/#pre-commit-configyaml---hooks) we can configure for each hook ID.\n",
    "\n",
    "```yaml\n",
    "# Inside .pre-commit-config.yaml\n",
    "...\n",
    "-   id: check-yaml\n",
    "    exclude: \"mkdocs.yml\"\n",
    "...\n",
    "```"
   ]
  },
  {
   "cell_type": "markdown",
   "id": "5CTkxP8a6Upz",
   "metadata": {
    "id": "5CTkxP8a6Upz"
   },
   "source": [
    "### Custom\n",
    "\n",
    "We can also define custom hooks.\n",
    "\n",
    "For example, if we want to apply formatting checks with Black as a hook, we can leverage Black's pre-commit hook.\n",
    "\n",
    "```yaml\n",
    "# Inside .pre-commit-config.yaml\n",
    "...\n",
    "-   repo: https://github.com/psf/black\n",
    "    rev: 20.8b1\n",
    "    hooks:\n",
    "    -   id: black\n",
    "        args: []\n",
    "        files: .\n",
    "...\n",
    "```\n",
    "\n",
    "This specific hook is defined under a [`.pre-commit-hooks.yaml`](https://github.com/psf/black/blob/main/.pre-commit-hooks.yaml) inside Black's repository, as are other custom hooks under their respective package repositories.\n"
   ]
  },
  {
   "cell_type": "markdown",
   "id": "dZskDPq76m7E",
   "metadata": {
    "id": "dZskDPq76m7E"
   },
   "source": [
    "### Local\n",
    "\n",
    "Finally, we can define local hooks. Recall that in `Makefile` we defined:\n",
    "\n",
    "```Makefile\n",
    "# Cleaning\n",
    ".PHONY: clean\n",
    "clean:\n",
    "\tfind . | grep -E \".ipynb_checkpoints\" | xargs rm -rf\n",
    "```\n",
    "\n",
    "And so we want the `pre-commit` to run this `clean` from `Makefile`. The below commands will do, note that we need to define `entry` as `make` to tell the `pre-commit` that `make` is our local command.\n",
    "\n",
    "```yaml\n",
    "# Inside .pre-commit-config.yaml\n",
    "...\n",
    "- repo: local\n",
    "  hooks:\n",
    "    - id: clean\n",
    "      name: clean\n",
    "      entry: make\n",
    "      args: [\"clean\"]\n",
    "      language: system\n",
    "      pass_filenames: false\n",
    "```"
   ]
  },
  {
   "cell_type": "markdown",
   "id": "WHAQnQv88aNY",
   "metadata": {
    "id": "WHAQnQv88aNY"
   },
   "source": [
    "## Commit\n",
    "\n",
    "Our `pre-commit` hooks will automatically execute when we try to make a `git commit`. We'll be able to see if each hook passed or failed and make any changes. If any of the hooks failed, we have to fix the corresponding file or in many instances, reformatting will occur automatically.\n",
    "\n",
    "```html\n",
    "(venv_test) reighns@HONGNANs-MacBook-Air emergency_forecast % git commit -a                                       \n",
    "Trim Trailing Whitespace.................................................Passed\n",
    "Check Yaml...............................................................Passed\n",
    "Check for added large files..............................................Passed\n",
    "Check python ast.....................................(no files to check)Skipped\n",
    "Check JSON...........................................(no files to check)Skipped\n",
    "Check for merge conflicts................................................Passed\n",
    "black................................................(no files to check)Skipped\n",
    "flake8...............................................(no files to check)Skipped\n",
    "isort................................................(no files to check)Skipped\n",
    "pyupgrade............................................(no files to check)Skipped\n",
    "clean....................................................................Passed\n",
    "```\n",
    "\n",
    "If some `hooks` failed, the messages will show up accordingly, most of the times the failed `hooks` will be formatted automatically and therefore you just need to `git commit` again to ensure that all hooks are passed."
   ]
  },
  {
   "cell_type": "markdown",
   "id": "GRQZUVgl9YHs",
   "metadata": {
    "id": "GRQZUVgl9YHs"
   },
   "source": [
    "## Run\n",
    "\n",
    "Though pre-commit hooks are meant to run before (pre) a commit, we can manually trigger all or individual hooks on all or a set of files.\n",
    "\n",
    "```bash\n",
    "# Run\n",
    "pre-commit run --all-files  # run all hooks on all files\n",
    "pre-commit run <HOOK_ID> --all-files # run one hook on all files\n",
    "pre-commit run --files <PATH_TO_FILE>  # run all hooks on a file\n",
    "pre-commit run <HOOK_ID> --files <PATH_TO_FILE> # run one hook on a file\n",
    "```"
   ]
  },
  {
   "cell_type": "markdown",
   "id": "YSkk93Ik9kdh",
   "metadata": {
    "id": "YSkk93Ik9kdh"
   },
   "source": [
    "## Update\n",
    "\n",
    "In our `.pre-commit-config.yaml` configuration files, we've had to specify the versions for each of the repositories so we can use their latest hooks. Pre-commit has an autoupdate CLI command which will update these versions as they become available.\n",
    "\n",
    "```bash\n",
    "# Autoupdate\n",
    "pre-commit autoupdate\n",
    "```\n",
    "\n",
    "We can also add this command to our Makefile to execute when a development environment is created so everything is up-to-date.\n",
    "\n",
    "```make\n",
    "# Makefile\n",
    "...\n",
    ".PHONY: install-dev\n",
    "install-dev:\n",
    "    python -m pip install -e \".[dev]\" --no-cache-dir\n",
    "    pre-commit install\n",
    "    pre-commit autoupdate\n",
    "...\n",
    "```\n"
   ]
  },
  {
   "cell_type": "markdown",
   "id": "gLoy7ldFxA_Q",
   "metadata": {
    "id": "gLoy7ldFxA_Q"
   },
   "source": [
    "## Tips and Cautions"
   ]
  },
  {
   "cell_type": "markdown",
   "id": "9cSEXgQZxC2Z",
   "metadata": {
    "id": "9cSEXgQZxC2Z"
   },
   "source": [
    "1. Match the versions between your local development environment and the `pre-commit` hooks. For example:\n",
    "\n",
    "    ```yaml\n",
    "    -   repo: https://github.com/psf/black\n",
    "        rev: 22.3.0\n",
    "        hooks:\n",
    "        -   id: black\n",
    "            args: []\n",
    "            files: \n",
    "    ```\n",
    "\n",
    "    We want to use `pre-commit` hooks from `black` to check styling and re-format when necessary. This `black` version should necessarily be the same as the local development envrionment in `requirements.txt`. By local development, it can mean:\n",
    "    - VSCode's `black` formatter;\n",
    "    - `Makefile` commands to use `black` to format;\n",
    "\n",
    "    The intuition is that different versions of `black` may have differing changes. The versioning difference issues can be resolved if in the `Update` section.\n",
    "\n",
    "2. When you see [`(no files to check) Skipped`](https://stackoverflow.com/questions/54697699/how-to-propertly-configure-my-pre-commit-and-pre-push-hooks) message during `pre-commit` checks. This is because the **committed files** do not have the file type that requires checkings. For example, your `black` check in `pre-commit` will say `no files to check` if the `git commit` has no `.py` files.\n",
    "\n",
    "    `pre-commit` will pass a list of [staged files which match `types` / `files`](https://pre-commit.com/#arguments-pattern-in-hooks) to the `entry` listed.\n",
    "\n",
    "    Your commit shows \"no files to check\" because there were no python files in your commit.  You probably want to run `pre-commit run --all-files` when first introducing new hooks."
   ]
  },
  {
   "cell_type": "markdown",
   "id": "0d6f1bee-c439-449d-91bb-50c3687b2ba9",
   "metadata": {},
   "source": [
    "## Ignore Pre-commit\n",
    "\n",
    "Use `git commit -n` flag to ignore pre commit runs.\n",
    "\n",
    "> By default, the pre-commit and commit-msg hooks are run. When any of --no-verify or -n is given, these are bypassed. See also githooks[5]."
   ]
  },
  {
   "cell_type": "markdown",
   "id": "NFQ16hJ_EyMW",
   "metadata": {
    "id": "NFQ16hJ_EyMW"
   },
   "source": [
    "## Workflow"
   ]
  },
  {
   "cell_type": "markdown",
   "id": "aNN45ZEHEzEy",
   "metadata": {
    "id": "aNN45ZEHEzEy"
   },
   "source": [
    "### Workflow in IDE\n",
    "\n",
    "Assuming Mac environment:\n",
    "\n",
    "```bash\n",
    "pip3 install -q pre-commit                          # install pre-commit in your vm\n",
    "pre-commit install                                  # make sure the dir is a git repo\n",
    "pre-commit sample-config > .pre-commit-config.yaml  # create default config file and populate with custom configurations if need be\n",
    "pre-commit run --all-files                          # run all hooks on all files in the repo during first commit\n",
    "git add .                                           # add all files to the repo\n",
    "git commit -a                                       # commit all files and pre-commit will automatically run all hooks\n",
    "```"
   ]
  },
  {
   "cell_type": "markdown",
   "id": "3KtSrTA6ITID",
   "metadata": {
    "id": "3KtSrTA6ITID"
   },
   "source": [
    "## References\n",
    "\n",
    "- [Offical Pre-commit documentation](https://pre-commit.com/)\n",
    "- [Pre-commit madewithml](https://madewithml.com/courses/mlops/pre-commit/)\n",
    "- [Git Hooks](https://git-scm.com/book/en/v2/Customizing-Git-Git-Hooks)"
   ]
  }
 ],
 "metadata": {
  "colab": {
   "collapsed_sections": [],
   "name": "09.pre-commit.ipynb",
   "provenance": [],
   "toc_visible": true
  },
  "kernelspec": {
   "display_name": "Python 3 (ipykernel)",
   "language": "python",
   "name": "python3"
  },
  "language_info": {
   "codemirror_mode": {
    "name": "ipython",
    "version": 3
   },
   "file_extension": ".py",
   "mimetype": "text/x-python",
   "name": "python",
   "nbconvert_exporter": "python",
   "pygments_lexer": "ipython3",
   "version": "3.8.10"
  },
  "vscode": {
   "interpreter": {
    "hash": "503d86ab53a32a089965504a966c10bc57efad2e49e663a8bcb468f90fb359c9"
   }
  }
 },
 "nbformat": 4,
 "nbformat_minor": 5
}

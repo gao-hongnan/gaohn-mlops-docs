{
 "cells": [
  {
   "cell_type": "markdown",
   "id": "4ab1c2b8-d826-41e9-8cf1-01a804dbb3e5",
   "metadata": {},
   "source": [
    "# Scripting"
   ]
  },
  {
   "cell_type": "markdown",
   "id": "07cee67e-f7d5-4d06-b34e-64f8a0765e59",
   "metadata": {},
   "source": [
    "## References\n",
    "\n",
    "<h4 align=\"center\">\n",
    "  <a href=\"https://gao-hongnan.github.io/gaohn-mlops-docs/mlops_docs/developing/general_workflow/\">General Workflow</a> \n",
    "  <span> • </span>\n",
    "  <a href=\"https://gao-hongnan.github.io/gaohn-mlops-docs/mlops_docs/developing/general_workflow/#scripting\">Scripting</a>\n",
    "  <span> • </span>\n",
    "  <a href=\"https://madewithml.com/courses/mlops/makefile/\">Made With ML</a>\n",
    "</h4>"
   ]
  },
  {
   "cell_type": "markdown",
   "id": "8340afb1-1a20-4bbf-8bbb-1d21641206f5",
   "metadata": {},
   "source": [
    "## Shell Scripts"
   ]
  },
  {
   "cell_type": "markdown",
   "id": "Kq9HNYpLwh77",
   "metadata": {
    "id": "Kq9HNYpLwh77"
   },
   "source": [
    "## Makefile"
   ]
  },
  {
   "cell_type": "markdown",
   "id": "fg2hd_rs8RvB",
   "metadata": {
    "id": "fg2hd_rs8RvB"
   },
   "source": [
    "### Intuition\n",
    "\n",
    "Ranging from `pip` installing to doing styling checks using `black .`, we have just started and there are already so many different commands to keep track of.\n",
    "\n",
    "To help with this, we're going to use a [`Makefile`](https://opensource.com/article/18/8/what-how-makefile) which is a automation tool that organizes our commands. This makes it very easy for us to organize relevant commands as well as organize it for others who may be new to our application.\n",
    "\n",
    "If you are confused, just imagine `Makefile` as a file to keep track of the commands you want the users to run, organized in a manner that is easily called. Hop on in this tutorial to gain a hands on experience."
   ]
  },
  {
   "cell_type": "markdown",
   "id": "QbqK3MEETtDH",
   "metadata": {
    "id": "QbqK3MEETtDH"
   },
   "source": [
    "https://github.com/drivendata/cookiecutter-data-science/blob/master/%7B%7B%20cookiecutter.repo_name%20%7D%7D/Makefile"
   ]
  },
  {
   "cell_type": "markdown",
   "id": "AxjLtu015ETI",
   "metadata": {
    "id": "AxjLtu015ETI"
   },
   "source": [
    "```bash\n",
    "touch Makefile\n",
    "```"
   ]
  },
  {
   "cell_type": "markdown",
   "id": "ojrNVw9Mwjbi",
   "metadata": {
    "id": "ojrNVw9Mwjbi"
   },
   "source": [
    "- `line 2`: `SHELL := /bin/bash`\n",
    "    - `SHELL` is the Makefile variable that sets the preferred shell to use. The default on is `/bin/sh`, so if you need Bash features, you might have to set this variable.\n",
    "    - [What is Shell Bash?](https://stackoverflow.com/questions/46955861/makefile-what-is-shell-bash)\n",
    "    - [Choosing Shell in Makefile](https://www.gnu.org/software/make/manual/html_node/Choosing-the-Shell.html)\n",
    "\n",
    "    "
   ]
  },
  {
   "cell_type": "markdown",
   "id": "veRxZS6kg-T9",
   "metadata": {
    "id": "veRxZS6kg-T9"
   },
   "source": [
    "1. We first install the packages needed."
   ]
  },
  {
   "cell_type": "code",
   "execution_count": null,
   "id": "RhNUOEOC9K89",
   "metadata": {
    "colab": {
     "base_uri": "https://localhost:8080/"
    },
    "executionInfo": {
     "elapsed": 8,
     "status": "ok",
     "timestamp": 1650877332428,
     "user": {
      "displayName": "HONGNAN GAO",
      "userId": "14684257183016239750"
     },
     "user_tz": -480
    },
    "id": "RhNUOEOC9K89",
    "outputId": "f133ea8a-95f9-4af1-c676-f304f1291a0c"
   },
   "outputs": [
    {
     "name": "stdout",
     "output_type": "stream",
     "text": [
      "GNU Make 4.1\n",
      "Built for x86_64-pc-linux-gnu\n",
      "Copyright (C) 1988-2014 Free Software Foundation, Inc.\n",
      "License GPLv3+: GNU GPL version 3 or later <http://gnu.org/licenses/gpl.html>\n",
      "This is free software: you are free to change and redistribute it.\n",
      "There is NO WARRANTY, to the extent permitted by law.\n"
     ]
    }
   ],
   "source": [
    "!make --version"
   ]
  },
  {
   "cell_type": "code",
   "execution_count": null,
   "id": "aTM0XKD1g4e8",
   "metadata": {
    "colab": {
     "base_uri": "https://localhost:8080/"
    },
    "executionInfo": {
     "elapsed": 6882,
     "status": "ok",
     "timestamp": 1650877402659,
     "user": {
      "displayName": "HONGNAN GAO",
      "userId": "14684257183016239750"
     },
     "user_tz": -480
    },
    "id": "aTM0XKD1g4e8",
    "outputId": "6ba37b02-8f70-46d7-f74d-02f52ae6f0ec"
   },
   "outputs": [
    {
     "name": "stdout",
     "output_type": "stream",
     "text": [
      "\u001b[K     |████████████████████████████████| 1.4 MB 4.3 MB/s \n",
      "\u001b[K     |████████████████████████████████| 64 kB 2.6 MB/s \n",
      "\u001b[K     |████████████████████████████████| 103 kB 57.8 MB/s \n",
      "\u001b[K     |████████████████████████████████| 843 kB 41.8 MB/s \n",
      "\u001b[K     |████████████████████████████████| 96 kB 6.1 MB/s \n",
      "\u001b[K     |████████████████████████████████| 69 kB 7.6 MB/s \n",
      "\u001b[K     |████████████████████████████████| 42 kB 832 kB/s \n",
      "\u001b[31mERROR: pip's dependency resolver does not currently take into account all the packages that are installed. This behaviour is the source of the following dependency conflicts.\n",
      "markdown 3.3.6 requires importlib-metadata>=4.4; python_version < \"3.10\", but you have importlib-metadata 4.2.0 which is incompatible.\n",
      "flask 1.1.4 requires click<8.0,>=5.1, but you have click 8.1.2 which is incompatible.\u001b[0m\n",
      "\u001b[?25h"
     ]
    }
   ],
   "source": [
    "!pip install -q black flake8 isort"
   ]
  },
  {
   "cell_type": "markdown",
   "id": "QAa5uDLaNJwZ",
   "metadata": {
    "id": "QAa5uDLaNJwZ"
   },
   "source": [
    "2. We define a global variable: `BASE_DIR` which points to one level up, its root folder. We verify that it is `/content` (in google colab)."
   ]
  },
  {
   "cell_type": "code",
   "execution_count": null,
   "id": "x3_Rfq3TfXYq",
   "metadata": {
    "colab": {
     "base_uri": "https://localhost:8080/"
    },
    "executionInfo": {
     "elapsed": 3,
     "status": "ok",
     "timestamp": 1650877407680,
     "user": {
      "displayName": "HONGNAN GAO",
      "userId": "14684257183016239750"
     },
     "user_tz": -480
    },
    "id": "x3_Rfq3TfXYq",
    "outputId": "ddc83f43-c968-4ce6-b52a-e1cfda6282f0"
   },
   "outputs": [
    {
     "name": "stdout",
     "output_type": "stream",
     "text": [
      "/content\n"
     ]
    }
   ],
   "source": [
    "from pathlib import Path\n",
    "\n",
    "# Creating Directories\n",
    "BASE_DIR = Path(\"__file__\").parent.absolute()\n",
    "print(BASE_DIR)"
   ]
  },
  {
   "cell_type": "markdown",
   "id": "3gN7pChTgM3f",
   "metadata": {
    "id": "3gN7pChTgM3f"
   },
   "source": [
    "3. Write a python file named `test.py` into `BASE_DIR`. The file contains the function we talked about just now.\n",
    "\n",
    "    We now write this function into the file `test.py`. "
   ]
  },
  {
   "cell_type": "code",
   "execution_count": null,
   "id": "cxCnEIUm9i3E",
   "metadata": {
    "colab": {
     "base_uri": "https://localhost:8080/"
    },
    "executionInfo": {
     "elapsed": 435,
     "status": "ok",
     "timestamp": 1650877430738,
     "user": {
      "displayName": "HONGNAN GAO",
      "userId": "14684257183016239750"
     },
     "user_tz": -480
    },
    "id": "cxCnEIUm9i3E",
    "outputId": "611b7650-5f7e-4ff8-8b75-f39e9d52a648"
   },
   "outputs": [
    {
     "name": "stdout",
     "output_type": "stream",
     "text": [
      "Writing /content/Makefile\n"
     ]
    }
   ],
   "source": [
    "%%writefile {BASE_DIR}/Makefile\n",
    "# Makefile\n",
    "SHELL := /bin/bash\n",
    "VM_NAME := venv_test\n",
    "\n",
    "say_hello:\n",
    "\t@echo \"Hello World\"\n",
    "\n",
    ".PHONY: help\n",
    "help:\n",
    "\t@echo \"Commands:\"\n",
    "\t@echo \"venv    : creates development environment.\"\n",
    "\t@echo \"style   : runs style formatting.\"\n",
    "\t@echo \"clean   : cleans all unnecessary files.\""
   ]
  },
  {
   "cell_type": "code",
   "execution_count": null,
   "id": "OIzZK28Y9oFZ",
   "metadata": {
    "colab": {
     "base_uri": "https://localhost:8080/"
    },
    "executionInfo": {
     "elapsed": 4,
     "status": "ok",
     "timestamp": 1650877438765,
     "user": {
      "displayName": "HONGNAN GAO",
      "userId": "14684257183016239750"
     },
     "user_tz": -480
    },
    "id": "OIzZK28Y9oFZ",
    "outputId": "270ff2b1-5408-42d0-a781-ce36e5df9f62"
   },
   "outputs": [
    {
     "name": "stdout",
     "output_type": "stream",
     "text": [
      "Commands:\n",
      "venv    : creates development environment.\n",
      "style   : runs style formatting.\n",
      "clean   : cleans all unnecessary files.\n"
     ]
    }
   ],
   "source": [
    "!make help"
   ]
  },
  {
   "cell_type": "code",
   "execution_count": null,
   "id": "zJdRE3B6fknw",
   "metadata": {
    "colab": {
     "base_uri": "https://localhost:8080/"
    },
    "executionInfo": {
     "elapsed": 501,
     "status": "ok",
     "timestamp": 1650873085299,
     "user": {
      "displayName": "HONGNAN GAO",
      "userId": "14684257183016239750"
     },
     "user_tz": -480
    },
    "id": "zJdRE3B6fknw",
    "outputId": "dfc11045-802b-4b64-fb62-92046ae43b1c"
   },
   "outputs": [
    {
     "name": "stdout",
     "output_type": "stream",
     "text": [
      "Writing /content/test.py\n"
     ]
    }
   ],
   "source": [
    "%%writefile {BASE_DIR}/test.py\n",
    "def shhq(shhq_member: str = \"hn\"):\n",
    "    if shhq_member in [\"hn\", \"cw\", \"jun\", \"lh\", \"lz\", \"mj\", \"sz\", \"wj\", \"yj\", \"zj\"]:\n",
    "        return True\n",
    "    else:\n",
    "        return False"
   ]
  },
  {
   "cell_type": "markdown",
   "id": "Yjb5xCzFgbnS",
   "metadata": {
    "id": "Yjb5xCzFgbnS"
   },
   "source": [
    "4. As detailed in the earlier section, we set some configurations for the formatter `black` and write these in `pyproject.toml` file. \n",
    "\n",
    "    Note that we excluded folders like the virtual environments `venv_ae`. As a reminder, we do not want our formatter and linter to check on **every file** in our code base. Even though this example here is not directly applicable, we should take note during production."
   ]
  },
  {
   "cell_type": "code",
   "execution_count": null,
   "id": "1efa-zKlOLbU",
   "metadata": {
    "colab": {
     "base_uri": "https://localhost:8080/"
    },
    "executionInfo": {
     "elapsed": 533,
     "status": "ok",
     "timestamp": 1650873157145,
     "user": {
      "displayName": "HONGNAN GAO",
      "userId": "14684257183016239750"
     },
     "user_tz": -480
    },
    "id": "1efa-zKlOLbU",
    "outputId": "c00a864a-508e-444f-a295-4815cf8fd7ce"
   },
   "outputs": [
    {
     "name": "stdout",
     "output_type": "stream",
     "text": [
      "Writing /content/pyproject.toml\n"
     ]
    }
   ],
   "source": [
    "%%writefile {BASE_DIR}/pyproject.toml\n",
    "# Black formatting\n",
    "[tool.black]\n",
    "line-length = 79\n",
    "include = '\\.pyi?$'\n",
    "exclude = '''\n",
    "/(\n",
    "      \\.eggs         # exclude a few common directories in the\n",
    "    | \\.git          # root of the project\n",
    "    | \\.hg\n",
    "    | \\.mypy_cache\n",
    "    | \\.tox\n",
    "    | _build\n",
    "    | buck-out\n",
    "    | build\n",
    "    | dist\n",
    "    | venv_ae\n",
    "  )/\n",
    "'''"
   ]
  },
  {
   "cell_type": "markdown",
   "id": "eqsHrIkLhZGA",
   "metadata": {
    "id": "eqsHrIkLhZGA"
   },
   "source": [
    "5. Before we run the `black` formatter, we call `%pycat` to view the python file and take note that in `line 2`, the line length definitely exceeded $79$."
   ]
  },
  {
   "cell_type": "code",
   "execution_count": null,
   "id": "TWe5rUzYhOLw",
   "metadata": {
    "id": "TWe5rUzYhOLw"
   },
   "outputs": [],
   "source": [
    "%pycat {BASE_DIR}/test.py"
   ]
  },
  {
   "cell_type": "markdown",
   "id": "4kpjn_9xhpmI",
   "metadata": {
    "id": "4kpjn_9xhpmI"
   },
   "source": [
    "6. To use these tools that we've configured, we could run these commands individually such as calling `black .` where `.` signifies that the configuration file for that package is in the current directory."
   ]
  },
  {
   "cell_type": "code",
   "execution_count": null,
   "id": "pPG9YKQ9OUG0",
   "metadata": {
    "colab": {
     "base_uri": "https://localhost:8080/"
    },
    "executionInfo": {
     "elapsed": 505,
     "status": "ok",
     "timestamp": 1650873172223,
     "user": {
      "displayName": "HONGNAN GAO",
      "userId": "14684257183016239750"
     },
     "user_tz": -480
    },
    "id": "pPG9YKQ9OUG0",
    "outputId": "7a4c9940-33a0-4846-a87b-721ba3569a2b"
   },
   "outputs": [
    {
     "name": "stdout",
     "output_type": "stream",
     "text": [
      "\u001b[1mreformatted test.py\u001b[0m\n",
      "\n",
      "\u001b[1mAll done! ✨ 🍰 ✨\u001b[0m\n",
      "\u001b[34m\u001b[1m1 file \u001b[0m\u001b[1mreformatted\u001b[0m.\n"
     ]
    }
   ],
   "source": [
    "!black ."
   ]
  },
  {
   "cell_type": "markdown",
   "id": "Yeh12HQWh1Sk",
   "metadata": {
    "id": "Yeh12HQWh1Sk"
   },
   "source": [
    "7. We see that the console said the files are formatted. We can call `%pycat` once again to check the code is indeed formatted!"
   ]
  },
  {
   "cell_type": "code",
   "execution_count": null,
   "id": "lXuradmThVRd",
   "metadata": {
    "id": "lXuradmThVRd"
   },
   "outputs": [],
   "source": [
    "%pycat {BASE_DIR}/test.py"
   ]
  },
  {
   "cell_type": "markdown",
   "id": "ejXSXZtyiAsc",
   "metadata": {
    "id": "ejXSXZtyiAsc"
   },
   "source": [
    "8. We can repeat the steps for our `flake8` file. We will shorten the example here, but for completeness sake we re-initialize `test.py` and see what our `flake8` has to say."
   ]
  },
  {
   "cell_type": "code",
   "execution_count": null,
   "id": "UJaqegAIixo-",
   "metadata": {
    "colab": {
     "base_uri": "https://localhost:8080/"
    },
    "executionInfo": {
     "elapsed": 437,
     "status": "ok",
     "timestamp": 1650873263874,
     "user": {
      "displayName": "HONGNAN GAO",
      "userId": "14684257183016239750"
     },
     "user_tz": -480
    },
    "id": "UJaqegAIixo-",
    "outputId": "3b082cd3-36f0-4dd9-9fea-e7fe9173e9e4"
   },
   "outputs": [
    {
     "name": "stdout",
     "output_type": "stream",
     "text": [
      "Overwriting /content/test.py\n"
     ]
    }
   ],
   "source": [
    "%%writefile {BASE_DIR}/test.py\n",
    "def shhq(shhq_member: str = \"hn\"):\n",
    "    if shhq_member in [\"hn\", \"cw\", \"jun\", \"lh\", \"lz\", \"mj\", \"sz\", \"wj\", \"yj\", \"zj\"]:\n",
    "        return True\n",
    "    else:\n",
    "        return False"
   ]
  },
  {
   "cell_type": "code",
   "execution_count": null,
   "id": "LAO3-jTOiA4j",
   "metadata": {
    "colab": {
     "base_uri": "https://localhost:8080/"
    },
    "executionInfo": {
     "elapsed": 545,
     "status": "ok",
     "timestamp": 1650873265026,
     "user": {
      "displayName": "HONGNAN GAO",
      "userId": "14684257183016239750"
     },
     "user_tz": -480
    },
    "id": "LAO3-jTOiA4j",
    "outputId": "d184c059-35f5-4006-ad6e-0f78457dee73"
   },
   "outputs": [
    {
     "name": "stdout",
     "output_type": "stream",
     "text": [
      "Overwriting /content/.flake8\n"
     ]
    }
   ],
   "source": [
    "%%writefile {BASE_DIR}/.flake8\n",
    "[flake8]\n",
    "exclude = venv\n",
    "ignore = W503, E226 # E501\n",
    "max-line-length = 79\n",
    "\n",
    "# E501: Line too long\n",
    "# W503: Line break occurred before binary operator\n",
    "# E226: Missing white space around arithmetic operator"
   ]
  },
  {
   "cell_type": "code",
   "execution_count": null,
   "id": "5jno28CNiVxR",
   "metadata": {
    "colab": {
     "base_uri": "https://localhost:8080/"
    },
    "executionInfo": {
     "elapsed": 632,
     "status": "ok",
     "timestamp": 1650873267071,
     "user": {
      "displayName": "HONGNAN GAO",
      "userId": "14684257183016239750"
     },
     "user_tz": -480
    },
    "id": "5jno28CNiVxR",
    "outputId": "9730ce00-abd9-43a0-e8e1-9d7e163cffad"
   },
   "outputs": [
    {
     "name": "stdout",
     "output_type": "stream",
     "text": [
      "./test.py:2:80: E501 line too long (84 > 79 characters)\n",
      "./test.py:5:21: W292 no newline at end of file\n"
     ]
    }
   ],
   "source": [
    "!flake8"
   ]
  },
  {
   "cell_type": "markdown",
   "id": "VSByFHDCi5CV",
   "metadata": {
    "id": "VSByFHDCi5CV"
   },
   "source": [
    "In the original example, the author ignores `E501: Line too long` clause in order to avoid conflicts with `black`. However, I included it to show as an example. Even though `flake8` highlights the issue, it will not automatically format the code!\n",
    "\n",
    "It also did not seem to have the `uncessary else after return` statement (perhaps this is under `pylint` and not `flake8`)."
   ]
  },
  {
   "cell_type": "markdown",
   "id": "hmsZxmHIuezG",
   "metadata": {
    "id": "hmsZxmHIuezG"
   },
   "source": [
    "9. We have seen the formatter and linter in action. I'll also provide a basic version if you are working in VSCode.\n",
    "\n",
    "    ```bash\n",
    "    cd \"to your desired directory\"\n",
    "    code . # opens vscode\n",
    "    touch test.py # touch is mac command to create a new file, upon creation, add in the code\n",
    "    touch .flake8 # add in the configurations\n",
    "    touch pyproject.toml # add in the configurations\n",
    "    black . # runs black config from pyproject and formats code in-place\n",
    "    isort . # runs isort config from pyproject and formats code in-place\n",
    "    flake8 # runs flake8\n",
    "    ```"
   ]
  }
 ],
 "metadata": {
  "colab": {
   "collapsed_sections": [],
   "name": "06.makefile.ipynb",
   "provenance": [],
   "toc_visible": true
  },
  "kernelspec": {
   "display_name": "Python 3 (ipykernel)",
   "language": "python",
   "name": "python3"
  },
  "language_info": {
   "codemirror_mode": {
    "name": "ipython",
    "version": 3
   },
   "file_extension": ".py",
   "mimetype": "text/x-python",
   "name": "python",
   "nbconvert_exporter": "python",
   "pygments_lexer": "ipython3",
   "version": "3.8.10"
  }
 },
 "nbformat": 4,
 "nbformat_minor": 5
}

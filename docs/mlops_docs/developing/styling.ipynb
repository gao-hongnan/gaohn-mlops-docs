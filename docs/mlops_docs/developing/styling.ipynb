{
  "cells": [
    {
      "cell_type": "markdown",
      "source": [
        "# Styling"
      ],
      "metadata": {
        "id": "rVY5TQDp5Lm3"
      },
      "id": "rVY5TQDp5Lm3"
    },
    {
      "cell_type": "markdown",
      "source": [
        "## Intuition\n",
        "\n",
        "> Code is read more often than it is written. -- Guido Van Rossum (author of Python)\n",
        "\n",
        "When we write a piece of code, it's almost never the last time we see it or the last time it's edited. So we need to \n",
        "\n",
        "1. explain what's going on (via documentation) but also \n",
        "2. make it easy to read. \n",
        "\n",
        "One of the easiest ways to make code more readable is to follow consistent style and formatting conventions.\n",
        "\n",
        "There are many options when it comes to Python style conventions to adhere to, but most are based on [PEP8](https://peps.python.org/pep-0008/) conventions. You'll notice that different teams follow different conventions and that's perfectly alright. The most important aspects are that everybody is consistently following the same convection and that there are pipelines in place to automatically and effortlessly ensure that consistency. Let's see what this looks like in our application.\n",
        "\n",
        "> One prime example is standardizing the line length of each line of code within a team, this makes us easier to refer to \"a line number\" when discussing code reviews. Imagine the case where we have different standards on line length, then one man's line $30$ may be other's line $50$."
      ],
      "metadata": {
        "id": "9wiftjiR5NB5"
      },
      "id": "9wiftjiR5NB5"
    },
    {
      "cell_type": "markdown",
      "source": [
        "## PEP8\n",
        "\n",
        "[PEP8 guide](https://peps.python.org/pep-0008/) details many common conventions for coding. The list below is by no means exhaustive, but are some common coding styles that big organizations practice.\n",
        "\n",
        "- Indentation level should be at $4$ spaces (a tab), in general, if the indentation is fixed at $k$, the python code will work, but we follow the $4$ spaces convention.\n",
        "- Maximum line length should be at $79$ maximum. This, however, is subjective and different organizations do it differently. The key is, to maintain consistency across teams. I believe the $79$ number stems from multiple reasons, one of which is many web browsers do not offer dynamic wrapping, and a super long line of code will turn out extremely ugly.\n",
        "- Variable namings, it should go without saying that namings are important. We are writing code for **us** and therefore readability is important. Consider the following example:\n",
        "    ```python\n",
        "    x = \"hongnan\"     # bad example\n",
        "    name = \"hongnan\". # good example\n",
        "    ```\n",
        "    The variable `x` represents a person's name, but it is vague as `x` can literally mean anything. Thus, changing `x` to `name` is a much better choice.\n",
        "- Imports, there's many rich history on how importing should be, but one thing to bear in mind forever is **stop wildcard imports**. This is extremely bad for other developers. Consider the below example:\n",
        "    ```python\n",
        "    from .src.main import *\n",
        "    ```\n",
        "    You are essentially importing all functions from `src.main` file. We will not really know which function is from where without digging deep.\n",
        "\n",
        "\n",
        "> There are many more conventions, we can find them more in the guide in reference."
      ],
      "metadata": {
        "id": "5KTmvfHku_D4"
      },
      "id": "5KTmvfHku_D4"
    },
    {
      "cell_type": "markdown",
      "source": [
        "## Tools "
      ],
      "metadata": {
        "id": "955KmfHe8xeP"
      },
      "id": "955KmfHe8xeP"
    },
    {
      "cell_type": "markdown",
      "source": [
        "### Formatter, Sorter and Linter\n",
        "\n",
        "We will be using a very popular blend of style and formatting conventions that makes some very opinionated decisions on our behalf (with configurable options).\n",
        "\n",
        "- [`black`](https://black.readthedocs.io/en/stable/): an in-place reformatter that (mostly) adheres to PEP8.\n",
        "- [`isort`](https://pycqa.github.io/isort/): sorts and formats import statements inside Python scripts.\n",
        "- [`flake8`](https://flake8.pycqa.org/en/latest/index.html): a code linter with stylistic conventions that adhere to PEP8.\n",
        "\n",
        "We have installed these libraries prior:\n",
        "\n",
        "```bash\n",
        "\"black==20.8b1\",\n",
        "\"flake8==3.8.3\",\n",
        "\"isort==5.5.3\",\n",
        "```"
      ],
      "metadata": {
        "id": "KVIIBZnakfwq"
      },
      "id": "KVIIBZnakfwq"
    },
    {
      "cell_type": "markdown",
      "source": [
        "### Difference between Linter and Formatter\n",
        "\n",
        "The difference might be nuanced and isn't clear. The tagline, **linters for catching errors and quality, formatters to fix code formatting style** can be demonstrated with an example:\n",
        "\n",
        "```python\n",
        "def shhq(shhq_member: str = \"hn\"):\n",
        "    if shhq_member in [\"hn\", \"cw\", \"jun\", \"lh\", \"lz\", \"mj\", \"sz\", \"wj\", \"yj\", \"zj\"]:\n",
        "        return True\n",
        "    else:\n",
        "        return False\n",
        "```\n",
        "\n",
        "- Our linter `pylint` will complain `Unnecessary \"else\" after \"return\" (no-else-return)` as this is not a good habit of using an `else` when you could have just `return False` without `else`. This is where our `flake8` linter comes into play. Note that `black` won't catch this issue.\n",
        "- Our linter and formatter will also see another glaring issue, that is the `if` line is too long, exceeding the `PEP8` standard of $79$ length. Both `black` and `flake8` will tell us this, but `black` will perform an **in-place** treatment, formatting the code on the go for you, whereas `flake8` will just tell you.\n",
        "\n",
        "Therefore, the coding world generally uses a formatter (`black`) and a linter (`flake8`) in tandem. We can read the below articles for more info:\n",
        "\n",
        "- [https://sbarnea.com/lint/black/](https://sbarnea.com/lint/black/)\n",
        "- [Differences between code linters and formatters](https://taiyr.me/what-is-the-difference-between-code-linters-and-formatters)\n",
        "- [Format Code vs Lint Code](https://medium.com/@awesomecode/format-code-vs-and-lint-code-95613798dcb3)"
      ],
      "metadata": {
        "id": "tEhUAIdW_SXi"
      },
      "id": "tEhUAIdW_SXi"
    },
    {
      "cell_type": "markdown",
      "source": [
        "## Configuration\n",
        "\n",
        "Before we can properly use these tools, we'll have to configure them because they may have some discrepancies amongst them since they follow slightly different conventions that extend from PEP8. To configure the aforementioned tools such as black, we could just pass in options using the [CLI](https://black.readthedocs.io/en/stable/usage_and_configuration/the_basics.html#command-line-options) method, but it's much more efficient (especially so others can easily find all our configurations) to do this through a file. So we'll need to create a `pyproject.toml` file and place some configurations we have.\n",
        "\n",
        "More specifically, we define the parameters and rules in which we want our linter and formatter to check in `pyproject.toml`."
      ],
      "metadata": {
        "id": "lSAHAqr9Ec3K"
      },
      "id": "lSAHAqr9Ec3K"
    },
    {
      "cell_type": "markdown",
      "source": [
        "### Configuring Formatter and Sorter with pyproject.toml"
      ],
      "metadata": {
        "id": "Y4mzapiAkzmd"
      },
      "id": "Y4mzapiAkzmd"
    },
    {
      "cell_type": "markdown",
      "source": [
        "We create a `pyproject.toml` file and put in the below."
      ],
      "metadata": {
        "id": "h09gqPttlAdp"
      },
      "id": "h09gqPttlAdp"
    },
    {
      "cell_type": "markdown",
      "source": [
        "```toml\n",
        "# Black formatting\n",
        "[tool.black]\n",
        "line-length = 79\n",
        "include = '\\.pyi?$'\n",
        "exclude = '''\n",
        "/(\n",
        "      \\.eggs         # exclude a few common directories in the\n",
        "    | \\.git          # root of the project\n",
        "    | \\.hg\n",
        "    | \\.mypy_cache\n",
        "    | \\.tox\n",
        "    | _build\n",
        "    | buck-out\n",
        "    | build\n",
        "    | dist\n",
        "    | venv_ae\n",
        "  )/\n",
        "'''\n",
        "```"
      ],
      "metadata": {
        "id": "OcQusT8mLaM0"
      },
      "id": "OcQusT8mLaM0"
    },
    {
      "cell_type": "markdown",
      "source": [
        "Here we're telling Black that our maximum line length should be $79$ characters and to include and exclude certain file extensions.\n",
        "\n",
        "Take note that we should definitely exclude our virtual environment folder, in my example, my vm folder is called `venv_ae` and it should differ from users to users.\n",
        "\n",
        "We're going to follow the same configuration steps in our `pyproject.toml` file for configuring `isort` as well. Place the following configurations right below `black`'s configurations."
      ],
      "metadata": {
        "id": "OX6o56EvLsKb"
      },
      "id": "OX6o56EvLsKb"
    },
    {
      "cell_type": "markdown",
      "source": [
        "```toml\n",
        "# iSort\n",
        "[tool.isort]\n",
        "profile = \"black\"\n",
        "line_length = 79\n",
        "multi_line_output = 3\n",
        "include_trailing_comma = true\n",
        "skip_gitignore = true\n",
        "virtual_env = \"venv_ae\"\n",
        "```"
      ],
      "metadata": {
        "id": "1MMSuPZyL5PD"
      },
      "id": "1MMSuPZyL5PD"
    },
    {
      "cell_type": "markdown",
      "source": [
        "Though there is a complete list of [configuration options](https://pycqa.github.io/isort/docs/configuration/options) for isort, we've decided to set these explicitly so it works well with Black."
      ],
      "metadata": {
        "id": "atV7LLzyMA9Y"
      },
      "id": "atV7LLzyMA9Y"
    },
    {
      "cell_type": "markdown",
      "source": [
        "### Configuring Linter with .flake8\n",
        "\n",
        "Lastly, we'll set up `flake8` but this time we need to create a separate `.flake8` file (`flake8` has its own config file) and place the following configurations:"
      ],
      "metadata": {
        "id": "7ga4Z40WlE8L"
      },
      "id": "7ga4Z40WlE8L"
    },
    {
      "cell_type": "markdown",
      "source": [
        "```.flake8\n",
        "[flake8]\n",
        "exclude = venv\n",
        "ignore = E501, W503, E226\n",
        "max-line-length = 79\n",
        "\n",
        "# E501: Line too long\n",
        "# W503: Line break occurred before binary operator\n",
        "# E226: Missing white space around arithmetic operator\n",
        "```"
      ],
      "metadata": {
        "id": "fo29dInFM3-l"
      },
      "id": "fo29dInFM3-l"
    },
    {
      "cell_type": "markdown",
      "source": [
        "Here we setting up some configurations like before but we're including an ignore option to ignore certain `flake8` rules so everything works with our `black` and `isort` configurations. This is to prevent some conflicts from `black` and `flake8`."
      ],
      "metadata": {
        "id": "umWR_xKkM-ex"
      },
      "id": "umWR_xKkM-ex"
    },
    {
      "cell_type": "markdown",
      "source": [
        "## Example Usage\n",
        "\n",
        "We include a reproducible example on google colab to help visualize the workflow."
      ],
      "metadata": {
        "id": "L4nS2cZoNIfG"
      },
      "id": "L4nS2cZoNIfG"
    },
    {
      "cell_type": "markdown",
      "source": [
        "### Google Colab Walkthrough"
      ],
      "metadata": {
        "id": "wiZ7dZ0MGtc4"
      },
      "id": "wiZ7dZ0MGtc4"
    },
    {
      "cell_type": "markdown",
      "source": [
        "1. We first install the packages needed."
      ],
      "metadata": {
        "id": "veRxZS6kg-T9"
      },
      "id": "veRxZS6kg-T9"
    },
    {
      "cell_type": "code",
      "source": [
        "!pip install -q black flake8 isort"
      ],
      "metadata": {
        "colab": {
          "base_uri": "https://localhost:8080/"
        },
        "id": "aTM0XKD1g4e8",
        "outputId": "0dd1ed84-e8a8-4ba1-a500-f0b2548899de"
      },
      "id": "aTM0XKD1g4e8",
      "execution_count": null,
      "outputs": [
        {
          "output_type": "stream",
          "name": "stdout",
          "text": [
            "\u001b[K     |████████████████████████████████| 1.4 MB 5.3 MB/s \n",
            "\u001b[K     |████████████████████████████████| 64 kB 2.4 MB/s \n",
            "\u001b[K     |████████████████████████████████| 103 kB 61.2 MB/s \n",
            "\u001b[K     |████████████████████████████████| 96 kB 5.1 MB/s \n",
            "\u001b[K     |████████████████████████████████| 843 kB 57.6 MB/s \n",
            "\u001b[K     |████████████████████████████████| 42 kB 782 kB/s \n",
            "\u001b[K     |████████████████████████████████| 69 kB 6.2 MB/s \n",
            "\u001b[31mERROR: pip's dependency resolver does not currently take into account all the packages that are installed. This behaviour is the source of the following dependency conflicts.\n",
            "markdown 3.3.6 requires importlib-metadata>=4.4; python_version < \"3.10\", but you have importlib-metadata 4.2.0 which is incompatible.\n",
            "flask 1.1.4 requires click<8.0,>=5.1, but you have click 8.1.2 which is incompatible.\u001b[0m\n",
            "\u001b[?25h"
          ]
        }
      ]
    },
    {
      "cell_type": "markdown",
      "source": [
        "2. We define a global variable: `BASE_DIR` which points to one level up, its root folder. We verify that it is `/content` (in google colab)."
      ],
      "metadata": {
        "id": "QAa5uDLaNJwZ"
      },
      "id": "QAa5uDLaNJwZ"
    },
    {
      "cell_type": "code",
      "source": [
        "from pathlib import Path\n",
        "\n",
        "# Creating Directories\n",
        "BASE_DIR = Path(\"__file__\").parent.absolute()\n",
        "print(BASE_DIR)"
      ],
      "metadata": {
        "colab": {
          "base_uri": "https://localhost:8080/"
        },
        "id": "x3_Rfq3TfXYq",
        "outputId": "080e7f6c-d11f-4fa9-928c-9baba335086f"
      },
      "id": "x3_Rfq3TfXYq",
      "execution_count": null,
      "outputs": [
        {
          "output_type": "stream",
          "name": "stdout",
          "text": [
            "/content\n"
          ]
        }
      ]
    },
    {
      "cell_type": "markdown",
      "source": [
        "3. Write a python file named `test.py` into `BASE_DIR`. The file contains the function we talked about just now.\n",
        "\n",
        "    We now write this function into the file `test.py`. "
      ],
      "metadata": {
        "id": "3gN7pChTgM3f"
      },
      "id": "3gN7pChTgM3f"
    },
    {
      "cell_type": "code",
      "source": [
        "%%writefile {BASE_DIR}/test.py\n",
        "def shhq(shhq_member: str = \"hn\"):\n",
        "    if shhq_member in [\"hn\", \"cw\", \"jun\", \"lh\", \"lz\", \"mj\", \"sz\", \"wj\", \"yj\", \"zj\"]:\n",
        "        return True\n",
        "    else:\n",
        "        return False"
      ],
      "metadata": {
        "colab": {
          "base_uri": "https://localhost:8080/"
        },
        "id": "zJdRE3B6fknw",
        "outputId": "5a4d9389-fba5-40e8-ee33-0aaaeaca5c8e"
      },
      "id": "zJdRE3B6fknw",
      "execution_count": null,
      "outputs": [
        {
          "output_type": "stream",
          "name": "stdout",
          "text": [
            "Writing /content/test.py\n"
          ]
        }
      ]
    },
    {
      "cell_type": "markdown",
      "source": [
        "4. As detailed in the earlier section, we set some configurations for the formatter `black` and write these in `pyproject.toml` file. \n",
        "\n",
        "    Note that we excluded folders like the virtual environments `venv_ae`. As a reminder, we do not want our formatter and linter to check on **every file** in our code base. Even though this example here is not directly applicable, we should take note during production."
      ],
      "metadata": {
        "id": "Yjb5xCzFgbnS"
      },
      "id": "Yjb5xCzFgbnS"
    },
    {
      "cell_type": "code",
      "source": [
        "%%writefile {BASE_DIR}/pyproject.toml\n",
        "# Black formatting\n",
        "[tool.black]\n",
        "line-length = 79\n",
        "include = '\\.pyi?$'\n",
        "exclude = '''\n",
        "/(\n",
        "      \\.eggs         # exclude a few common directories in the\n",
        "    | \\.git          # root of the project\n",
        "    | \\.hg\n",
        "    | \\.mypy_cache\n",
        "    | \\.tox\n",
        "    | _build\n",
        "    | buck-out\n",
        "    | build\n",
        "    | dist\n",
        "    | venv_ae\n",
        "  )/\n",
        "'''"
      ],
      "metadata": {
        "colab": {
          "base_uri": "https://localhost:8080/"
        },
        "id": "1efa-zKlOLbU",
        "outputId": "a35ddb25-4996-4b9e-ea6e-ad6ad5463e9c"
      },
      "id": "1efa-zKlOLbU",
      "execution_count": null,
      "outputs": [
        {
          "output_type": "stream",
          "name": "stdout",
          "text": [
            "Writing /content/pyproject.toml\n"
          ]
        }
      ]
    },
    {
      "cell_type": "markdown",
      "source": [
        "5. Before we run the `black` formatter, we call `%pycat` to view the python file and take note that in `line 2`, the line length definitely exceeded $79$."
      ],
      "metadata": {
        "id": "eqsHrIkLhZGA"
      },
      "id": "eqsHrIkLhZGA"
    },
    {
      "cell_type": "code",
      "source": [
        "%pycat {BASE_DIR}/test.py"
      ],
      "metadata": {
        "id": "TWe5rUzYhOLw"
      },
      "id": "TWe5rUzYhOLw",
      "execution_count": null,
      "outputs": []
    },
    {
      "cell_type": "markdown",
      "source": [
        "6. To use these tools that we've configured, we could run these commands individually such as calling `black .` where `.` signifies that the configuration file for that package is in the current directory."
      ],
      "metadata": {
        "id": "4kpjn_9xhpmI"
      },
      "id": "4kpjn_9xhpmI"
    },
    {
      "cell_type": "code",
      "source": [
        "!black ."
      ],
      "metadata": {
        "colab": {
          "base_uri": "https://localhost:8080/"
        },
        "id": "pPG9YKQ9OUG0",
        "outputId": "5f1b6245-5737-4101-e046-6624458d0fb8"
      },
      "id": "pPG9YKQ9OUG0",
      "execution_count": null,
      "outputs": [
        {
          "output_type": "stream",
          "name": "stdout",
          "text": [
            "\u001b[1mreformatted test.py\u001b[0m\n",
            "\n",
            "\u001b[1mAll done! ✨ 🍰 ✨\u001b[0m\n",
            "\u001b[34m\u001b[1m1 file \u001b[0m\u001b[1mreformatted\u001b[0m.\n"
          ]
        }
      ]
    },
    {
      "cell_type": "markdown",
      "source": [
        "7. We see that the console said the files are formatted. We can call `%pycat` once again to check the code is indeed formatted!"
      ],
      "metadata": {
        "id": "Yeh12HQWh1Sk"
      },
      "id": "Yeh12HQWh1Sk"
    },
    {
      "cell_type": "code",
      "source": [
        "%pycat {BASE_DIR}/test.py"
      ],
      "metadata": {
        "id": "lXuradmThVRd"
      },
      "id": "lXuradmThVRd",
      "execution_count": null,
      "outputs": []
    },
    {
      "cell_type": "markdown",
      "source": [
        "8. We can repeat the steps for our `flake8` file. We will shorten the example here, but for completeness sake we re-initialize `test.py` and see what our `flake8` has to say."
      ],
      "metadata": {
        "id": "ejXSXZtyiAsc"
      },
      "id": "ejXSXZtyiAsc"
    },
    {
      "cell_type": "code",
      "source": [
        "%%writefile {BASE_DIR}/test.py\n",
        "def shhq(shhq_member: str = \"hn\"):\n",
        "    if shhq_member in [\"hn\", \"cw\", \"jun\", \"lh\", \"lz\", \"mj\", \"sz\", \"wj\", \"yj\", \"zj\"]:\n",
        "        return True\n",
        "    else:\n",
        "        return False"
      ],
      "metadata": {
        "colab": {
          "base_uri": "https://localhost:8080/"
        },
        "id": "UJaqegAIixo-",
        "outputId": "de0f44f6-b0c9-4b8b-c4e3-57ca59efdf52"
      },
      "id": "UJaqegAIixo-",
      "execution_count": null,
      "outputs": [
        {
          "output_type": "stream",
          "name": "stdout",
          "text": [
            "Overwriting /content/test.py\n"
          ]
        }
      ]
    },
    {
      "cell_type": "code",
      "source": [
        "%%writefile {BASE_DIR}/.flake8\n",
        "[flake8]\n",
        "exclude = venv\n",
        "ignore = W503, E226 # E501\n",
        "max-line-length = 79\n",
        "\n",
        "# E501: Line too long\n",
        "# W503: Line break occurred before binary operator\n",
        "# E226: Missing white space around arithmetic operator"
      ],
      "metadata": {
        "colab": {
          "base_uri": "https://localhost:8080/"
        },
        "id": "LAO3-jTOiA4j",
        "outputId": "67a0504d-62f7-476e-aaf3-63898fcee3d6"
      },
      "id": "LAO3-jTOiA4j",
      "execution_count": null,
      "outputs": [
        {
          "output_type": "stream",
          "name": "stdout",
          "text": [
            "Overwriting /content/.flake8\n"
          ]
        }
      ]
    },
    {
      "cell_type": "code",
      "source": [
        "!flake8"
      ],
      "metadata": {
        "colab": {
          "base_uri": "https://localhost:8080/"
        },
        "id": "5jno28CNiVxR",
        "outputId": "f9d10531-df60-4792-cd4f-00c79ddbd819"
      },
      "id": "5jno28CNiVxR",
      "execution_count": null,
      "outputs": [
        {
          "output_type": "stream",
          "name": "stdout",
          "text": [
            "./test.py:5:21: W292 no newline at end of file\n"
          ]
        }
      ]
    },
    {
      "cell_type": "markdown",
      "source": [
        "In the original example, the author ignores `E501: Line too long` clause in order to avoid conflicts with `black`. However, I included it to show as an example. Even though `flake8` highlights the issue, it will not automatically format the code!\n",
        "\n",
        "It also did not seem to have the `uncessary else after return` statement (perhaps this is under `pylint` and not `flake8`)."
      ],
      "metadata": {
        "id": "VSByFHDCi5CV"
      },
      "id": "VSByFHDCi5CV"
    },
    {
      "cell_type": "markdown",
      "source": [
        "## Workflow"
      ],
      "metadata": {
        "id": "hY9eM1VJKyr7"
      },
      "id": "hY9eM1VJKyr7"
    },
    {
      "cell_type": "markdown",
      "source": [
        "### Workflow in IDE"
      ],
      "metadata": {
        "id": "8zogGx4UGxt0"
      },
      "id": "8zogGx4UGxt0"
    },
    {
      "cell_type": "markdown",
      "source": [
        "Here is the command line if you are working in VSCode.\n",
        "\n",
        "```bash\n",
        "cd \"to your desired directory\"  # change dir to your working directory\n",
        "code .                          # open your VSCode\n",
        "touch test.py                   # touch is mac command to create a new file, upon creation, add in the code\n",
        "touch .flake8                   # add in the configurations for flake8\n",
        "touch pyproject.toml            # add in the configurations for black and isort\n",
        "black .                         # runs black config from pyproject and formats code in-place\n",
        "isort .                         # runs isort config from pyproject and formats code in-place\n",
        "flake8                          # runs flake8 config from .flake8 add flake8 ... if it hangs\n",
        "```"
      ],
      "metadata": {
        "id": "hmsZxmHIuezG"
      },
      "id": "hmsZxmHIuezG"
    },
    {
      "cell_type": "markdown",
      "source": [
        "### Workflow in Google Colab"
      ],
      "metadata": {
        "id": "g7LUmCwIK0R-"
      },
      "id": "g7LUmCwIK0R-"
    },
    {
      "cell_type": "markdown",
      "source": [
        "To fill in"
      ],
      "metadata": {
        "id": "QlfNoR9dLYCf"
      },
      "id": "QlfNoR9dLYCf"
    },
    {
      "cell_type": "markdown",
      "source": [
        "## Next Steps\n",
        "\n",
        "Let us see what we can further do to automate this step."
      ],
      "metadata": {
        "id": "F_wKNc0yjQ_Z"
      },
      "id": "F_wKNc0yjQ_Z"
    },
    {
      "cell_type": "markdown",
      "source": [
        "### Branch\n",
        "\n",
        "Create a branch and make a tutorial on this styling."
      ],
      "metadata": {
        "id": "6kESRlCPm1DO"
      },
      "id": "6kESRlCPm1DO"
    },
    {
      "cell_type": "markdown",
      "source": [
        "### Makefile\n",
        "\n",
        "We will mention in `Makefile` on how to call these commands.\n",
        "\n"
      ],
      "metadata": {
        "id": "2BbiQJb5kvGi"
      },
      "id": "2BbiQJb5kvGi"
    },
    {
      "cell_type": "markdown",
      "source": [
        "### Pre-commit\n",
        "\n",
        "We may sometimes forget to run these style checks after we finish development. We'll cover how to automate this process using pre-commit so that these checks are automatically executed whenever we want to commit our code."
      ],
      "metadata": {
        "id": "yJ8nUJookv7z"
      },
      "id": "yJ8nUJookv7z"
    },
    {
      "cell_type": "markdown",
      "source": [
        "## References\n",
        "\n",
        "- [PEP8 guide](https://peps.python.org/pep-0008/)\n",
        "- [What really is pyproject.toml?](https://snarky.ca/what-the-heck-is-pyproject-toml/)\n",
        "- [MLOps madewithml](https://madewithml.com/courses/mlops/styling/)\n",
        "- [https://sbarnea.com/lint/black/](https://sbarnea.com/lint/black/)\n",
        "- [Differences between code linters and formatters](https://taiyr.me/what-is-the-difference-between-code-linters-and-formatters)\n",
        "- [Pre-commits Styling](https://ljvmiranda921.github.io/notebook/2018/06/21/precommits-using-black-and-flake8/)"
      ],
      "metadata": {
        "id": "gv-XXOo0lyQ-"
      },
      "id": "gv-XXOo0lyQ-"
    }
  ],
  "metadata": {
    "kernelspec": {
      "display_name": "Python 3 (ipykernel)",
      "language": "python",
      "name": "python3"
    },
    "language_info": {
      "codemirror_mode": {
        "name": "ipython",
        "version": 3
      },
      "file_extension": ".py",
      "mimetype": "text/x-python",
      "name": "python",
      "nbconvert_exporter": "python",
      "pygments_lexer": "ipython3",
      "version": "3.9.12"
    },
    "colab": {
      "provenance": [],
      "collapsed_sections": [],
      "toc_visible": true
    }
  },
  "nbformat": 4,
  "nbformat_minor": 5
}
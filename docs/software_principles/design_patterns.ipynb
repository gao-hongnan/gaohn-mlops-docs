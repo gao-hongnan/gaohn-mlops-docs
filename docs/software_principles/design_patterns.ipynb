{
 "cells": [
  {
   "cell_type": "markdown",
   "id": "045d4cee-395a-4ba7-9846-798e74d6f6c6",
   "metadata": {},
   "source": [
    "## Strategy Pattern"
   ]
  },
  {
   "attachments": {},
   "cell_type": "markdown",
   "id": "2cc3294b",
   "metadata": {},
   "source": [
    "## Inheritance and Composition\n",
    "\n",
    "Use David's example: A is a B vs A is made up of B."
   ]
  },
  {
   "attachments": {},
   "cell_type": "markdown",
   "id": "b3dc275d",
   "metadata": {},
   "source": [
    "## Dependency Inverson Principle"
   ]
  },
  {
   "attachments": {},
   "cell_type": "markdown",
   "id": "9c33140a",
   "metadata": {},
   "source": [
    "### Definition\n",
    "\n",
    "In object-oriented design, the [dependency inversion principle](https://en.wikipedia.org/wiki/Dependency_inversion_principle) is a specific methodology for loosely coupling software modules. When following this principle, the conventional dependency relationships established from high-level, policy-setting modules to low-level, dependency modules are reversed, thus rendering high-level modules independent of the low-level module implementation details. The principle states:[1]\n",
    "\n",
    "- High-level modules should not import anything from low-level modules. Both should depend on abstractions (e.g., interfaces).\n",
    "- Abstractions should not depend on details. Details (concrete implementations) should depend on abstractions.\n",
    "  \n",
    "By dictating that both high-level and low-level objects must depend on the same abstraction, this design principle inverts the way some people may think about object-oriented programming.[2]\n",
    "\n",
    "References:\n",
    "\n",
    "1. [Abstractions should not depend on implementations.](https://stackoverflow.com/questions/52857145/what-is-mean-by-abstractions-should-not-depend-on-details-details-should-depen)\n",
    "2. [Wikipedia](https://en.wikipedia.org/wiki/Dependency_inversion_principle)"
   ]
  },
  {
   "attachments": {},
   "cell_type": "markdown",
   "id": "82886397",
   "metadata": {},
   "source": [
    "### Low Level and High Level Modules\n",
    "\n",
    "Low level modules are \"low level\" because they have no dependencies, or no relevant dependencies. Very often, they can be easily reused in different contexts without introducing any separate, formal interfaces - which means, reusing them is straightforward, simple and does not require any Dependency Inversion.\n",
    "\n",
    "High level modules, however, are \"high level\", because they require other, lower level modules to work. But if they are tied to a specific low-level implementation, this often prevents to reuse them in a different context.\n",
    "\n",
    "High level modules depend on low level modules, but shouldn't depend on their implementation. This can be achieved by using interfaces, thus decoupling the definition of the service from the implementation.\n",
    "\n",
    "References: \n",
    "\n",
    "1. https://stackoverflow.com/questions/3780388/what-are-high-level-modules-and-low-level-modules-in-the-context-of-depende"
   ]
  },
  {
   "attachments": {},
   "cell_type": "markdown",
   "id": "434f9e55",
   "metadata": {},
   "source": [
    "### Example\n",
    "\n",
    "- `CustomDataset` is a high-level module that will apply transformation to the data and return\n",
    "the transformed data depending on the `stage`.\n",
    "- `ImageClassificationTransforms` is a low-level module that will return the transformation functions.\n",
    "- In our code, the high level module depends on the low level module such that the **creation** of \n",
    "`ImageClassificationTransforms` is done inside the `CustomDataset` constructor. This leads to **high coupling**. \n",
    "- The code looks fine but if we want to change the `ImageClassificationTransforms` to `ImageSegmentationTransforms`, then we have to change the `CustomDataset` code in two places:\n",
    "    - Type hint of `ImageClassificationTransforms` to `ImageSegmentationTransforms`;\n",
    "    - Change manually the `ImageClassificationTransforms` to `ImageSegmentationTransforms` in the constructor.\n",
    "- Things soon get out of hand if we have a lot more of such dependencies, such as `ObjectDetectionTransforms`, `ImageCaptioningTransforms`, etc.\n"
   ]
  },
  {
   "attachments": {},
   "cell_type": "markdown",
   "id": "5632a7a1",
   "metadata": {},
   "source": [
    "- One way to solve this is to use the **Dependency Inversion Principle**. We can create an interface `Transforms` that will be implemented by `ImageClassificationTransforms`, `ImageSegmentationTransforms`, etc. Then, we can pass the `Transforms` object to the `CustomDataset` constructor `__init__` method. This way, the `CustomDataset` will depend on the `Transforms` interface and not on the `ImageClassificationTransforms` class. This way, we can change the `ImageClassificationTransforms` to `ImageSegmentationTransforms` without changing the `CustomDataset` code. This is called **Dependency Inversion**."
   ]
  },
  {
   "attachments": {},
   "cell_type": "markdown",
   "id": "0b90d19d",
   "metadata": {},
   "source": [
    "The abstraction does not depend on details simply mean the abstract class should not\n",
    "hold any implementation. The implementation should be done in the concrete class.\n",
    "\n",
    "Example:\n",
    "\n",
    "In my `Transforms(ABC)` abstract class/interface below, I have two abstract methods `get_train_transforms` and `get_test_transforms`. These methods are not implemented in the abstract class. They are implemented in the concrete class `ImageClassificationTransforms`. This is the second rule in **Dependency Inversion Principle**.\n",
    "\n",
    "In the high level module `CustomDataset`, I have a constructor `__init__` that takes in a `Transforms` abstract class/interface. Now my `CustomDataset` depends on the `Transforms` abstraction and not on the `ImageClassificationTransforms` class. This is the first rule in **Dependency Inversion Principle**. Furthermore, if you were to switch your task\n",
    "from image classification to image segmentation, you can simply change the `ImageClassificationTransforms` to `ImageSegmentationTransforms` without changing the `CustomDataset` code as you are not **creating/coupled** to the `ImageClassificationTransforms` class.\n",
    "\n",
    "```python\n",
    "class Transforms(ABC):\n",
    "    \"\"\"Abstract class for transforms.\"\"\"\n",
    "\n",
    "    @abstractmethod\n",
    "    def get_train_transforms(self) -> Callable:\n",
    "        \"\"\"Get train transforms.\"\"\"\n",
    "\n",
    "\n",
    "    @abstractmethod\n",
    "    def get_test_transforms(self) -> Callable:\n",
    "        \"\"\"Get test transforms.\"\"\"\n",
    "\n",
    "class ImageClassificationTransforms(Transforms):\n",
    "    \"\"\"Dummy class for image classification transforms.\"\"\"\n",
    "\n",
    "    def get_train_transforms(self) -> Callable:\n",
    "        \"\"\"Get train transforms.\"\"\"\n",
    "        print(\"Getting image classification train transforms.\")\n",
    "        return lambda x: None\n",
    "\n",
    "    def get_test_transforms(self) -> Callable:\n",
    "        \"\"\"Get test transforms.\"\"\"\n",
    "        print(\"Getting image classification test transforms.\")\n",
    "        return lambda x: None\n",
    "\n",
    "\n",
    "class ImageSegmentationTransforms(Transforms):\n",
    "    \"\"\"Dummy class for image segmentation transforms.\"\"\"\n",
    "\n",
    "    def get_train_transforms(self) -> Callable:\n",
    "        \"\"\"Get train transforms.\"\"\"\n",
    "        print(\"Getting image segmentation train transforms.\")\n",
    "        return lambda x: None\n",
    "\n",
    "    def get_test_transforms(self) -> Callable:\n",
    "        \"\"\"Get test transforms.\"\"\"\n",
    "        print(\"Getting image segmentation test transforms.\")\n",
    "        return lambda x: None\n",
    "\n",
    "\n",
    "class CustomDataset:\n",
    "    def __init__(self, transforms: Transforms, stage: str = \"train\") -> None:\n",
    "        self.stage = stage\n",
    "        self.transforms = transforms\n",
    "\n",
    "    def apply_transforms(self, dummy_data: Any = None) -> Any:\n",
    "        \"\"\"Apply transforms to dataset based on stage.\"\"\"\n",
    "        if self.stage == \"train\":\n",
    "            transformed = self.transforms.get_train_transforms()(dummy_data)\n",
    "        else:\n",
    "            transformed = self.transforms.get_test_transforms()(dummy_data)\n",
    "        return transformed\n",
    "```\n"
   ]
  },
  {
   "attachments": {},
   "cell_type": "markdown",
   "id": "3e743926",
   "metadata": {},
   "source": [
    "Originally, `CustomDataset` **creates** its own dependency and it is the one controlling\n",
    "the dependency. Now after applying **Dependency Inversion Principle**, `CustomDataset` is no longer creating its own dependency. It is now **injected** with the dependency. This **inverts\n",
    "the control** of the dependency from `CustomDataset` to the caller of `CustomDataset`. This is the **Dependency Inversion Principle**.\n",
    "\n",
    "More concretely, in traditional sense, since class A depends on class B, then class A is the one creating the dependency. But after applying **Dependency Inversion Principle**, class A is no longer creating the dependency. Instead, the dependency is instantiated outside of class A \n",
    "at runtime and is injected into class A. This is the **Dependency Inversion Principle**,\n",
    "a form of **Inversion of Control**."
   ]
  },
  {
   "cell_type": "code",
   "execution_count": 1,
   "id": "840ab45d",
   "metadata": {},
   "outputs": [],
   "source": [
    "# convert C# to Python\n",
    "class AppPoolWatcher: #  high level module\n",
    "    def __init__(self):\n",
    "        self.writer = EventLogWriter()\n",
    "\n",
    "    def notify(self, message):\n",
    "        self.writer.write(message)\n",
    "        \n",
    "        \n",
    "class EventLogWriter: # low level module\n",
    "    def write(self, message):\n",
    "        # Write to event log here\n",
    "        pass"
   ]
  },
  {
   "attachments": {},
   "cell_type": "markdown",
   "id": "7926ea8c",
   "metadata": {},
   "source": [
    "High level module `AppPoolWatcher` depends on low level module `EventLogWriter`\n",
    "where `EventLogWriter` is a concrete class and not an interface/abstract class.\n",
    "creation of `EventLogWriter` is tightly coupled with `AppPoolWatcher` class.\n",
    "in other words, `AppPoolWatcher` creates `EventLogWriter` object since\n",
    "we are creating `EventLogWriter` object inside the constructor of `AppPoolWatcher`.\n",
    "\n",
    "Now the problem is that if we want to change the implementation of `EventLogWriter`\n",
    "then we will have to change the `AppPoolWatcher` class as well. This is not a good\n",
    "design. For example, if we want our `AppPoolWatcher` to write the error messages\n",
    "to an email instead of event log then we will have to change the `self.writer` to\n",
    "say, `EmailWriter` and then create an instance of `EmailWriter` inside the class.\n",
    "\n",
    "\n",
    "The problem will get even worse when we have more actions to take selectively, like sending SMS. \n",
    "Then we will have to have one more class whose instance will be kept inside the AppPoolWatcher. \n",
    "The dependency inversion principle says that we need to decouple this system in such \n",
    "a way that the higher level modules i.e. the `AppPoolWatcher` in our case will depend\n",
    "on a simple abstraction and will use it. This abstraction will in turn will be \n",
    "mapped to some concrete class which will perform the actual operation. (Next we will see how this can be done)  "
   ]
  },
  {
   "cell_type": "markdown",
   "id": "8a0fbef3",
   "metadata": {},
   "source": []
  },
  {
   "cell_type": "markdown",
   "id": "17dc34ec",
   "metadata": {},
   "source": []
  },
  {
   "attachments": {},
   "cell_type": "markdown",
   "id": "78c71d8d",
   "metadata": {},
   "source": [
    "## Dependency Injection\n",
    "\n",
    "- https://stackoverflow.com/questions/1314730/which-design-patterns-can-be-applied-to-the-configuration-settings-problem\n",
    "- https://www.youtube.com/watch?v=2ejbLVkCndI\n",
    "- http://martinfowler.com/articles/injection.html"
   ]
  },
  {
   "attachments": {},
   "cell_type": "markdown",
   "id": "92dc5b30",
   "metadata": {},
   "source": [
    "## Terminology\n",
    "\n",
    "- Polymorphism: "
   ]
  },
  {
   "cell_type": "markdown",
   "id": "4c880e4e-926f-438c-9f2f-d7e1757fb0c7",
   "metadata": {},
   "source": [
    "## Further Readings\n",
    "\n",
    "- https://eugeneyan.com/writing/design-patterns/\n",
    "- https://github.com/msaroufim/ml-design-patterns\n",
    "- https://refactoring.guru/design-patterns\n",
    "- https://en.wikipedia.org/wiki/Design_Patterns"
   ]
  }
 ],
 "metadata": {
  "kernelspec": {
   "display_name": "Python 3",
   "language": "python",
   "name": "python3"
  },
  "language_info": {
   "codemirror_mode": {
    "name": "ipython",
    "version": 3
   },
   "file_extension": ".py",
   "mimetype": "text/x-python",
   "name": "python",
   "nbconvert_exporter": "python",
   "pygments_lexer": "ipython3",
   "version": "3.9.6 (default, Oct 18 2022, 12:41:40) \n[Clang 14.0.0 (clang-1400.0.29.202)]"
  },
  "vscode": {
   "interpreter": {
    "hash": "31f2aee4e71d21fbe5cf8b01ff0e069b9275f58929596ceb00d14d90e3e16cd6"
   }
  }
 },
 "nbformat": 4,
 "nbformat_minor": 5
}
